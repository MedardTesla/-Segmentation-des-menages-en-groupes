{
 "cells": [
  {
   "cell_type": "markdown",
   "id": "14f39c18-96d3-4560-a555-94713714a5ec",
   "metadata": {},
   "source": [
    "#                       Les finances des consommateurs aux états-unis"
   ]
  },
  {
   "cell_type": "markdown",
   "id": "65f8acb4-ba24-4d7e-a395-65b1cd170fcf",
   "metadata": {},
   "source": [
    "Dans ce projet, vous travaillerez avec des données provenant de l'enquête américaine sur les finances des consommateurs. Votre objectif est d'identifier les ménages américains qui ont des difficultés à obtenir un crédit, puis de segmenter ces ménages en groupes en vue d'une sensibilisation ciblée.\n",
    "\n",
    "L'enquête SCF est parrainée par la Réserve fédérale américaine. Elle recueille des informations financières, démographiques et d'opinion sur les familles aux États-Unis. L'enquête est menée tous les trois ans et nous travaillerons sur un extrait des résultats de 2019\n",
    "https://www.federalreserve.gov/econres/scfindex.htm"
   ]
  },
  {
   "cell_type": "code",
   "execution_count": 1,
   "id": "8982c894-ca47-4f0b-a29a-fd2242766ae0",
   "metadata": {},
   "outputs": [],
   "source": [
    "import warnings\n",
    "warnings.filterwarnings(\"ignore\")\n",
    "import pandas as pd\n",
    "import numpy as np\n",
    "import matplotlib.pyplot as plt\n",
    "import seaborn as sns"
   ]
  },
  {
   "cell_type": "markdown",
   "id": "a6ec2af2-6cc9-42a4-95a1-ec3261df54f7",
   "metadata": {},
   "source": [
    "## Prepare data"
   ]
  },
  {
   "cell_type": "markdown",
   "id": "d0950b7e-78f4-4507-a96f-9e188517c4bb",
   "metadata": {},
   "source": [
    "### Import"
   ]
  },
  {
   "cell_type": "code",
   "execution_count": 2,
   "id": "ea9b894b-8d48-471d-9a65-d560299ea2b9",
   "metadata": {},
   "outputs": [],
   "source": [
    "df = pd.read_csv(\"data/SCFP2019.csv\")"
   ]
  },
  {
   "cell_type": "code",
   "execution_count": 3,
   "id": "b59c378e-8ee3-4b67-8ee7-0ad24fd26230",
   "metadata": {},
   "outputs": [
    {
     "data": {
      "text/html": [
       "<div>\n",
       "<style scoped>\n",
       "    .dataframe tbody tr th:only-of-type {\n",
       "        vertical-align: middle;\n",
       "    }\n",
       "\n",
       "    .dataframe tbody tr th {\n",
       "        vertical-align: top;\n",
       "    }\n",
       "\n",
       "    .dataframe thead th {\n",
       "        text-align: right;\n",
       "    }\n",
       "</style>\n",
       "<table border=\"1\" class=\"dataframe\">\n",
       "  <thead>\n",
       "    <tr style=\"text-align: right;\">\n",
       "      <th></th>\n",
       "      <th>YY1</th>\n",
       "      <th>Y1</th>\n",
       "      <th>WGT</th>\n",
       "      <th>HHSEX</th>\n",
       "      <th>AGE</th>\n",
       "      <th>AGECL</th>\n",
       "      <th>EDUC</th>\n",
       "      <th>EDCL</th>\n",
       "      <th>MARRIED</th>\n",
       "      <th>KIDS</th>\n",
       "      <th>...</th>\n",
       "      <th>NWCAT</th>\n",
       "      <th>INCCAT</th>\n",
       "      <th>ASSETCAT</th>\n",
       "      <th>NINCCAT</th>\n",
       "      <th>NINC2CAT</th>\n",
       "      <th>NWPCTLECAT</th>\n",
       "      <th>INCPCTLECAT</th>\n",
       "      <th>NINCPCTLECAT</th>\n",
       "      <th>INCQRTCAT</th>\n",
       "      <th>NINCQRTCAT</th>\n",
       "    </tr>\n",
       "  </thead>\n",
       "  <tbody>\n",
       "    <tr>\n",
       "      <th>0</th>\n",
       "      <td>1</td>\n",
       "      <td>11</td>\n",
       "      <td>6119.779308</td>\n",
       "      <td>2</td>\n",
       "      <td>75</td>\n",
       "      <td>6</td>\n",
       "      <td>12</td>\n",
       "      <td>4</td>\n",
       "      <td>2</td>\n",
       "      <td>0</td>\n",
       "      <td>...</td>\n",
       "      <td>5</td>\n",
       "      <td>3</td>\n",
       "      <td>6</td>\n",
       "      <td>3</td>\n",
       "      <td>2</td>\n",
       "      <td>10</td>\n",
       "      <td>6</td>\n",
       "      <td>6</td>\n",
       "      <td>3</td>\n",
       "      <td>3</td>\n",
       "    </tr>\n",
       "    <tr>\n",
       "      <th>1</th>\n",
       "      <td>1</td>\n",
       "      <td>12</td>\n",
       "      <td>4712.374912</td>\n",
       "      <td>2</td>\n",
       "      <td>75</td>\n",
       "      <td>6</td>\n",
       "      <td>12</td>\n",
       "      <td>4</td>\n",
       "      <td>2</td>\n",
       "      <td>0</td>\n",
       "      <td>...</td>\n",
       "      <td>5</td>\n",
       "      <td>3</td>\n",
       "      <td>6</td>\n",
       "      <td>3</td>\n",
       "      <td>1</td>\n",
       "      <td>10</td>\n",
       "      <td>5</td>\n",
       "      <td>5</td>\n",
       "      <td>2</td>\n",
       "      <td>2</td>\n",
       "    </tr>\n",
       "    <tr>\n",
       "      <th>2</th>\n",
       "      <td>1</td>\n",
       "      <td>13</td>\n",
       "      <td>5145.224455</td>\n",
       "      <td>2</td>\n",
       "      <td>75</td>\n",
       "      <td>6</td>\n",
       "      <td>12</td>\n",
       "      <td>4</td>\n",
       "      <td>2</td>\n",
       "      <td>0</td>\n",
       "      <td>...</td>\n",
       "      <td>5</td>\n",
       "      <td>3</td>\n",
       "      <td>6</td>\n",
       "      <td>3</td>\n",
       "      <td>1</td>\n",
       "      <td>10</td>\n",
       "      <td>5</td>\n",
       "      <td>5</td>\n",
       "      <td>2</td>\n",
       "      <td>2</td>\n",
       "    </tr>\n",
       "    <tr>\n",
       "      <th>3</th>\n",
       "      <td>1</td>\n",
       "      <td>14</td>\n",
       "      <td>5297.663412</td>\n",
       "      <td>2</td>\n",
       "      <td>75</td>\n",
       "      <td>6</td>\n",
       "      <td>12</td>\n",
       "      <td>4</td>\n",
       "      <td>2</td>\n",
       "      <td>0</td>\n",
       "      <td>...</td>\n",
       "      <td>5</td>\n",
       "      <td>2</td>\n",
       "      <td>6</td>\n",
       "      <td>2</td>\n",
       "      <td>1</td>\n",
       "      <td>10</td>\n",
       "      <td>4</td>\n",
       "      <td>4</td>\n",
       "      <td>2</td>\n",
       "      <td>2</td>\n",
       "    </tr>\n",
       "    <tr>\n",
       "      <th>4</th>\n",
       "      <td>1</td>\n",
       "      <td>15</td>\n",
       "      <td>4761.812371</td>\n",
       "      <td>2</td>\n",
       "      <td>75</td>\n",
       "      <td>6</td>\n",
       "      <td>12</td>\n",
       "      <td>4</td>\n",
       "      <td>2</td>\n",
       "      <td>0</td>\n",
       "      <td>...</td>\n",
       "      <td>5</td>\n",
       "      <td>3</td>\n",
       "      <td>6</td>\n",
       "      <td>3</td>\n",
       "      <td>1</td>\n",
       "      <td>10</td>\n",
       "      <td>5</td>\n",
       "      <td>5</td>\n",
       "      <td>2</td>\n",
       "      <td>2</td>\n",
       "    </tr>\n",
       "  </tbody>\n",
       "</table>\n",
       "<p>5 rows × 351 columns</p>\n",
       "</div>"
      ],
      "text/plain": [
       "   YY1  Y1          WGT  HHSEX  AGE  AGECL  EDUC  EDCL  MARRIED  KIDS  ...  \\\n",
       "0    1  11  6119.779308      2   75      6    12     4        2     0  ...   \n",
       "1    1  12  4712.374912      2   75      6    12     4        2     0  ...   \n",
       "2    1  13  5145.224455      2   75      6    12     4        2     0  ...   \n",
       "3    1  14  5297.663412      2   75      6    12     4        2     0  ...   \n",
       "4    1  15  4761.812371      2   75      6    12     4        2     0  ...   \n",
       "\n",
       "   NWCAT  INCCAT  ASSETCAT  NINCCAT  NINC2CAT  NWPCTLECAT  INCPCTLECAT  \\\n",
       "0      5       3         6        3         2          10            6   \n",
       "1      5       3         6        3         1          10            5   \n",
       "2      5       3         6        3         1          10            5   \n",
       "3      5       2         6        2         1          10            4   \n",
       "4      5       3         6        3         1          10            5   \n",
       "\n",
       "   NINCPCTLECAT  INCQRTCAT  NINCQRTCAT  \n",
       "0             6          3           3  \n",
       "1             5          2           2  \n",
       "2             5          2           2  \n",
       "3             4          2           2  \n",
       "4             5          2           2  \n",
       "\n",
       "[5 rows x 351 columns]"
      ]
     },
     "execution_count": 3,
     "metadata": {},
     "output_type": "execute_result"
    }
   ],
   "source": [
    "df.head()"
   ]
  },
  {
   "cell_type": "markdown",
   "id": "4d6b8e50-d0d9-4cef-87cb-669de2a6dd9a",
   "metadata": {},
   "source": [
    "L'une des premières choses que nous pouvons remarquerer ici est que cet ensemble de données est ENORME - plus de 20 000 lignes et 351 colonnes ! IL Y A TELLEMENT DE DONNÉES ! Nous n'aurons pas le temps d'explorer toutes les caractéristiques de cet ensemble de données, mais vous pouvez consulter le dictionnaire de données de ce projet pour obtenir des détails et des liens vers [le Code Book officiel](http://localhost:8888/lab/tree/Data%20Science/consumer-finances-in-usa/dictionnaire.ipynb). Pour l'instant, disons simplement que cet ensemble de données suit toutes sortes de comportements liés à la façon dont les ménages gagnent, épargnent et dépensent de l'argent aux États-Unis.\n",
    "\n",
    "Pour ce projet, nous allons nous concentrer sur les ménages qui ont \"essuyé un refus de crédit ou craint de se voir refuser un crédit au cours des cinq dernières années\". Ces ménages sont identifiés dans la colonne \"TURNFEAR\"."
   ]
  },
  {
   "cell_type": "code",
   "execution_count": 4,
   "id": "69da4029-4448-4b9d-8a1e-0e1ddb937662",
   "metadata": {},
   "outputs": [
    {
     "data": {
      "text/plain": [
       "4623"
      ]
     },
     "execution_count": 4,
     "metadata": {},
     "output_type": "execute_result"
    }
   ],
   "source": [
    "mask = df[\"TURNFEAR\"] == 1\n",
    "mask.sum()"
   ]
  },
  {
   "cell_type": "code",
   "execution_count": 5,
   "id": "0b58deb1-667f-4c73-ac1c-fb7b8340aa64",
   "metadata": {},
   "outputs": [],
   "source": [
    "df_fear = df[mask]"
   ]
  },
  {
   "cell_type": "code",
   "execution_count": 6,
   "id": "cb12cf32-35b9-466b-ac7e-c2b9d1d4244b",
   "metadata": {},
   "outputs": [
    {
     "name": "stdout",
     "output_type": "stream",
     "text": [
      "(4623, 351)\n"
     ]
    },
    {
     "data": {
      "text/html": [
       "<div>\n",
       "<style scoped>\n",
       "    .dataframe tbody tr th:only-of-type {\n",
       "        vertical-align: middle;\n",
       "    }\n",
       "\n",
       "    .dataframe tbody tr th {\n",
       "        vertical-align: top;\n",
       "    }\n",
       "\n",
       "    .dataframe thead th {\n",
       "        text-align: right;\n",
       "    }\n",
       "</style>\n",
       "<table border=\"1\" class=\"dataframe\">\n",
       "  <thead>\n",
       "    <tr style=\"text-align: right;\">\n",
       "      <th></th>\n",
       "      <th>YY1</th>\n",
       "      <th>Y1</th>\n",
       "      <th>WGT</th>\n",
       "      <th>HHSEX</th>\n",
       "      <th>AGE</th>\n",
       "      <th>AGECL</th>\n",
       "      <th>EDUC</th>\n",
       "      <th>EDCL</th>\n",
       "      <th>MARRIED</th>\n",
       "      <th>KIDS</th>\n",
       "      <th>...</th>\n",
       "      <th>NWCAT</th>\n",
       "      <th>INCCAT</th>\n",
       "      <th>ASSETCAT</th>\n",
       "      <th>NINCCAT</th>\n",
       "      <th>NINC2CAT</th>\n",
       "      <th>NWPCTLECAT</th>\n",
       "      <th>INCPCTLECAT</th>\n",
       "      <th>NINCPCTLECAT</th>\n",
       "      <th>INCQRTCAT</th>\n",
       "      <th>NINCQRTCAT</th>\n",
       "    </tr>\n",
       "  </thead>\n",
       "  <tbody>\n",
       "    <tr>\n",
       "      <th>5</th>\n",
       "      <td>2</td>\n",
       "      <td>21</td>\n",
       "      <td>3790.476607</td>\n",
       "      <td>1</td>\n",
       "      <td>50</td>\n",
       "      <td>3</td>\n",
       "      <td>8</td>\n",
       "      <td>2</td>\n",
       "      <td>1</td>\n",
       "      <td>3</td>\n",
       "      <td>...</td>\n",
       "      <td>1</td>\n",
       "      <td>2</td>\n",
       "      <td>1</td>\n",
       "      <td>2</td>\n",
       "      <td>1</td>\n",
       "      <td>1</td>\n",
       "      <td>4</td>\n",
       "      <td>4</td>\n",
       "      <td>2</td>\n",
       "      <td>2</td>\n",
       "    </tr>\n",
       "    <tr>\n",
       "      <th>6</th>\n",
       "      <td>2</td>\n",
       "      <td>22</td>\n",
       "      <td>3798.868505</td>\n",
       "      <td>1</td>\n",
       "      <td>50</td>\n",
       "      <td>3</td>\n",
       "      <td>8</td>\n",
       "      <td>2</td>\n",
       "      <td>1</td>\n",
       "      <td>3</td>\n",
       "      <td>...</td>\n",
       "      <td>1</td>\n",
       "      <td>2</td>\n",
       "      <td>1</td>\n",
       "      <td>2</td>\n",
       "      <td>1</td>\n",
       "      <td>1</td>\n",
       "      <td>4</td>\n",
       "      <td>3</td>\n",
       "      <td>2</td>\n",
       "      <td>2</td>\n",
       "    </tr>\n",
       "    <tr>\n",
       "      <th>7</th>\n",
       "      <td>2</td>\n",
       "      <td>23</td>\n",
       "      <td>3799.468393</td>\n",
       "      <td>1</td>\n",
       "      <td>50</td>\n",
       "      <td>3</td>\n",
       "      <td>8</td>\n",
       "      <td>2</td>\n",
       "      <td>1</td>\n",
       "      <td>3</td>\n",
       "      <td>...</td>\n",
       "      <td>1</td>\n",
       "      <td>2</td>\n",
       "      <td>1</td>\n",
       "      <td>2</td>\n",
       "      <td>1</td>\n",
       "      <td>1</td>\n",
       "      <td>4</td>\n",
       "      <td>4</td>\n",
       "      <td>2</td>\n",
       "      <td>2</td>\n",
       "    </tr>\n",
       "    <tr>\n",
       "      <th>8</th>\n",
       "      <td>2</td>\n",
       "      <td>24</td>\n",
       "      <td>3788.076005</td>\n",
       "      <td>1</td>\n",
       "      <td>50</td>\n",
       "      <td>3</td>\n",
       "      <td>8</td>\n",
       "      <td>2</td>\n",
       "      <td>1</td>\n",
       "      <td>3</td>\n",
       "      <td>...</td>\n",
       "      <td>1</td>\n",
       "      <td>2</td>\n",
       "      <td>1</td>\n",
       "      <td>2</td>\n",
       "      <td>1</td>\n",
       "      <td>1</td>\n",
       "      <td>4</td>\n",
       "      <td>4</td>\n",
       "      <td>2</td>\n",
       "      <td>2</td>\n",
       "    </tr>\n",
       "    <tr>\n",
       "      <th>9</th>\n",
       "      <td>2</td>\n",
       "      <td>25</td>\n",
       "      <td>3793.066589</td>\n",
       "      <td>1</td>\n",
       "      <td>50</td>\n",
       "      <td>3</td>\n",
       "      <td>8</td>\n",
       "      <td>2</td>\n",
       "      <td>1</td>\n",
       "      <td>3</td>\n",
       "      <td>...</td>\n",
       "      <td>1</td>\n",
       "      <td>2</td>\n",
       "      <td>1</td>\n",
       "      <td>2</td>\n",
       "      <td>1</td>\n",
       "      <td>1</td>\n",
       "      <td>4</td>\n",
       "      <td>4</td>\n",
       "      <td>2</td>\n",
       "      <td>2</td>\n",
       "    </tr>\n",
       "  </tbody>\n",
       "</table>\n",
       "<p>5 rows × 351 columns</p>\n",
       "</div>"
      ],
      "text/plain": [
       "   YY1  Y1          WGT  HHSEX  AGE  AGECL  EDUC  EDCL  MARRIED  KIDS  ...  \\\n",
       "5    2  21  3790.476607      1   50      3     8     2        1     3  ...   \n",
       "6    2  22  3798.868505      1   50      3     8     2        1     3  ...   \n",
       "7    2  23  3799.468393      1   50      3     8     2        1     3  ...   \n",
       "8    2  24  3788.076005      1   50      3     8     2        1     3  ...   \n",
       "9    2  25  3793.066589      1   50      3     8     2        1     3  ...   \n",
       "\n",
       "   NWCAT  INCCAT  ASSETCAT  NINCCAT  NINC2CAT  NWPCTLECAT  INCPCTLECAT  \\\n",
       "5      1       2         1        2         1           1            4   \n",
       "6      1       2         1        2         1           1            4   \n",
       "7      1       2         1        2         1           1            4   \n",
       "8      1       2         1        2         1           1            4   \n",
       "9      1       2         1        2         1           1            4   \n",
       "\n",
       "   NINCPCTLECAT  INCQRTCAT  NINCQRTCAT  \n",
       "5             4          2           2  \n",
       "6             3          2           2  \n",
       "7             4          2           2  \n",
       "8             4          2           2  \n",
       "9             4          2           2  \n",
       "\n",
       "[5 rows x 351 columns]"
      ]
     },
     "execution_count": 6,
     "metadata": {},
     "output_type": "execute_result"
    }
   ],
   "source": [
    "\n",
    "print(df_fear.shape)\n",
    "df_fear.head()"
   ]
  },
  {
   "cell_type": "markdown",
   "id": "3df2e068-2aee-4e57-8e27-c262e0432216",
   "metadata": {},
   "source": [
    "## Explore"
   ]
  },
  {
   "cell_type": "markdown",
   "id": "e7a84d63-891f-4bf0-afaf-272a33966506",
   "metadata": {},
   "source": [
    "### Age"
   ]
  },
  {
   "cell_type": "markdown",
   "id": "c262bbce-0f64-49e4-81c6-d7b3d0a8e7f7",
   "metadata": {},
   "source": [
    "Maintenant que nous avons notre sous-ensemble, explorons les caractéristiques de ce groupe. L'une des caractéristiques est le groupe d'âge (`\"AGECL\"`)"
   ]
  },
  {
   "cell_type": "code",
   "execution_count": 7,
   "id": "1da6cacc-294f-4cca-aced-70a6a962c0f9",
   "metadata": {},
   "outputs": [
    {
     "name": "stdout",
     "output_type": "stream",
     "text": [
      "Groupe d'age :  [3 5 1 2 4 6]\n"
     ]
    }
   ],
   "source": [
    "groupe_age = df_fear[\"AGECL\"].unique()\n",
    "print(\"Groupe d'age : \", groupe_age)"
   ]
  },
  {
   "cell_type": "code",
   "execution_count": 8,
   "id": "e28b090e-3db3-4742-9c54-a1bbe1087251",
   "metadata": {},
   "outputs": [],
   "source": [
    "agecl_dict = {1:\"Under 35\" , 2:\"35-44\", 3:\"45-54\" , 4:\"55-64\", 5:\"65-74\", 6:\"75 or Older\"} "
   ]
  },
  {
   "cell_type": "code",
   "execution_count": 9,
   "id": "8c5b4247-a3b9-4f2c-928d-ca692ef3fe85",
   "metadata": {},
   "outputs": [],
   "source": [
    "age_cl = df_fear[\"AGECL\"].replace(agecl_dict)"
   ]
  },
  {
   "cell_type": "code",
   "execution_count": 10,
   "id": "0eb20ee2-75f8-4527-99e1-29d1f75c59c3",
   "metadata": {},
   "outputs": [
    {
     "data": {
      "text/plain": [
       "5    45-54\n",
       "6    45-54\n",
       "7    45-54\n",
       "8    45-54\n",
       "9    45-54\n",
       "Name: AGECL, dtype: object"
      ]
     },
     "execution_count": 10,
     "metadata": {},
     "output_type": "execute_result"
    }
   ],
   "source": [
    "age_cl.head()"
   ]
  },
  {
   "cell_type": "code",
   "execution_count": 11,
   "id": "793bf824-61b3-46b5-a6b3-1f05c1a01f97",
   "metadata": {},
   "outputs": [],
   "source": [
    "age_cl_value_counts = age_cl.value_counts()"
   ]
  },
  {
   "cell_type": "code",
   "execution_count": 12,
   "id": "871807fa-025b-4199-8162-d2ba1d007cec",
   "metadata": {},
   "outputs": [
    {
     "data": {
      "image/png": "[encoded data removed]",
      "text/plain": [
       "<Figure size 640x480 with 1 Axes>"
      ]
     },
     "metadata": {},
     "output_type": "display_data"
    }
   ],
   "source": [
    "age_cl_value_counts.plot(kind=\"bar\", \n",
    "                         xlabel=\"Age groupe\", \n",
    "                         ylabel= \"Frequency\",\n",
    "                         title= \"Credit fearful: Age groupe\"\n",
    "                        );"
   ]
  },
  {
   "cell_type": "markdown",
   "id": "12f6c0ba-70ae-457d-a804-75aa00cf2628",
   "metadata": {},
   "source": [
    "Notre graphique nous indique que la plupart des personnes qui craignent de se voir refuser un crédit sont plus jeunes. Mais les deux premiers groupes d'âge couvrent un éventail plus large que les quatre autres. Il peut donc être utile de regarder à l'intérieur de ces valeurs pour obtenir une compréhension plus granulaire des données.\n",
    "\n",
    "Pour ce faire, nous devons examiner une variable différente : \"AGE\". Alors que \"AGECL\" était une variable catégorielle, \"AGE\" est une variable continue, et nous pouvons donc l'utiliser pour créer notre propre histogramme."
   ]
  },
  {
   "cell_type": "code",
   "execution_count": 13,
   "id": "78ff4f83-e21d-401b-a1ca-35b68880587f",
   "metadata": {},
   "outputs": [
    {
     "data": {
      "image/png": "[encoded data removed]",
      "text/plain": [
       "<Figure size 640x480 with 1 Axes>"
      ]
     },
     "metadata": {},
     "output_type": "display_data"
    }
   ],
   "source": [
    "df_fear[\"AGE\"].hist(bins=10)\n",
    "plt.xlabel(\"Age\")\n",
    "plt.ylabel(\"Frequency\")\n",
    "plt.title(\"Credit fearful: Age distribution\");"
   ]
  },
  {
   "cell_type": "markdown",
   "id": "f15585b3-c04a-42d3-aca2-6b149f7fe2f6",
   "metadata": {},
   "source": [
    "Ainsi le diagramme nous montre que les gens qui craignent se voir refuser un crédit ont un age  plus compris entre  30 et 40 ans"
   ]
  },
  {
   "cell_type": "markdown",
   "id": "0f7869c2-aa9c-49fb-935c-f58ebb4bbd1b",
   "metadata": {},
   "source": [
    "## Race"
   ]
  },
  {
   "cell_type": "markdown",
   "id": "fd91708c-0fdb-449c-b88c-8b8969bd49e1",
   "metadata": {},
   "source": [
    "Maintenant que nous avons compris comment l'âge est lié au résultat qui nous intéresse, essayons d'autres possibilités, en commençant par la race."
   ]
  },
  {
   "cell_type": "code",
   "execution_count": 14,
   "id": "f82ef504-4860-4e39-9a6c-bb340c3e4a75",
   "metadata": {},
   "outputs": [
    {
     "data": {
      "text/plain": [
       "array([1, 3, 2, 5], dtype=int64)"
      ]
     },
     "execution_count": 14,
     "metadata": {},
     "output_type": "execute_result"
    }
   ],
   "source": [
    "df_fear[\"RACE\"].unique()"
   ]
  },
  {
   "cell_type": "code",
   "execution_count": 15,
   "id": "b9ab5094-128c-4f92-a89a-a8fa517d7e9a",
   "metadata": {},
   "outputs": [],
   "source": [
    "race_dict =  {1: \"White/Non-Hispanic\",\n",
    "            2: \"Black/African-American\",\n",
    "            3: \"Hispanic\",\n",
    "            5: \"Other\",}"
   ]
  },
  {
   "cell_type": "code",
   "execution_count": 16,
   "id": "2b38474f-30d9-4ab7-a382-fe1a5492ec42",
   "metadata": {},
   "outputs": [],
   "source": [
    "race_cl = df_fear[\"RACE\"].replace(race_dict)"
   ]
  },
  {
   "cell_type": "code",
   "execution_count": 17,
   "id": "c4a843bd-edc7-4723-9d56-390e231c28e3",
   "metadata": {},
   "outputs": [],
   "source": [
    "race_cl_value_count = race_cl.value_counts(normalize=True)"
   ]
  },
  {
   "cell_type": "code",
   "execution_count": 18,
   "id": "d9bb43a9-4741-4445-969c-b9f0285f8fc5",
   "metadata": {},
   "outputs": [
    {
     "data": {
      "image/png": "[encoded data removed]",
      "text/plain": [
       "<Figure size 640x480 with 1 Axes>"
      ]
     },
     "metadata": {},
     "output_type": "display_data"
    }
   ],
   "source": [
    "race_cl_value_count.plot(kind=\"barh\",\n",
    "                         xlabel=\"Frequency %\",\n",
    "                         ylabel=\"Race groupe\",\n",
    "                         title=\"Credit freaful: Race goupe\");"
   ]
  },
  {
   "cell_type": "markdown",
   "id": "04fa2fdd-a157-4c91-b42f-fa13962683c5",
   "metadata": {},
   "source": [
    "Nous pouvons remarquer que la race \"White/Non-Hispanic\" est plus succecible de se voir refuser un crédit"
   ]
  },
  {
   "cell_type": "markdown",
   "id": "e7e1feb5-06f3-4c5e-89c5-9cc09b255592",
   "metadata": {},
   "source": [
    "Comparons notre analyse a celle de tout le groupe.\n",
    "Pour le faire il suffit de reprendre l'expérience en remplacant df_fear par df "
   ]
  },
  {
   "cell_type": "code",
   "execution_count": 19,
   "id": "ee390d21-bc3a-4259-a435-8f6e89beb2e5",
   "metadata": {},
   "outputs": [],
   "source": [
    "race_cl_df = df[\"RACE\"].replace(race_dict)"
   ]
  },
  {
   "cell_type": "code",
   "execution_count": 20,
   "id": "29364d55-8b25-402e-be4b-f7ea0769f951",
   "metadata": {},
   "outputs": [],
   "source": [
    "race_cl_df_value_count = race_cl_df.value_counts(normalize=True)"
   ]
  },
  {
   "cell_type": "code",
   "execution_count": 21,
   "id": "66af8f2b-1dcc-4be9-a35c-d829f13a587d",
   "metadata": {},
   "outputs": [
    {
     "data": {
      "image/png": "[encoded data removed]",
      "text/plain": [
       "<Figure size 640x480 with 1 Axes>"
      ]
     },
     "metadata": {},
     "output_type": "display_data"
    }
   ],
   "source": [
    "race_cl_df_value_count.plot(kind=\"barh\",\n",
    "                         xlabel=\"Frequency %\",\n",
    "                         ylabel=\"Race groupe\",\n",
    "                         title=\"SCF Respondents :  Race goupe\");"
   ]
  },
  {
   "cell_type": "markdown",
   "id": "46af2342-d285-4bb9-86f1-909f0555acd3",
   "metadata": {},
   "source": [
    "En quoi ce deuxième diagramme à barres modifie-t-il notre perception du premier ? D'une part, nous pouvons constater que les Blancs non hispaniques représentent environ 70 % de l'ensemble des données, mais seulement 54 % des personnes interrogées ayant des craintes en matière de crédit. D'autre part, les répondants noirs et hispaniques représentent 23 % de l'ensemble des données, mais 40 % des répondants craignant le crédit. En d'autres termes, les ménages noirs et hispaniques sont en fait plus susceptibles d'appartenir au groupe de ceux qui ont peur du crédit."
   ]
  },
  {
   "cell_type": "markdown",
   "id": "44f1e84c-dee6-44d6-81b3-51e0de3e9700",
   "metadata": {},
   "source": [
    "## Revenu"
   ]
  },
  {
   "cell_type": "markdown",
   "id": "04673903-2e4b-4be0-a0d3-db1d03b47800",
   "metadata": {},
   "source": [
    "Qu'en est-il du niveau de revenu ? Les personnes à faible revenu s'inquiètent-elles de se voir refuser un crédit, ou est-ce plutôt le cas des personnes plus fortunées ? Pour répondre à cette question, nous devons à nouveau comparer l'ensemble des données avec notre sous-groupe à l'aide de la fonction \"INCCAT\", qui permet de saisir les groupes de percentiles de revenus. Cette fois-ci, nous réaliserons un seul diagramme à barres côte à côte."
   ]
  },
  {
   "cell_type": "code",
   "execution_count": null,
   "id": "b8eb1d4d-cdae-40cd-817d-0ea303c24231",
   "metadata": {},
   "outputs": [],
   "source": []
  },
  {
   "cell_type": "code",
   "execution_count": 26,
   "id": "c8610d62-9a96-4c05-91ef-5787b3b799bc",
   "metadata": {},
   "outputs": [],
   "source": [
    "inccat_dict = {\n",
    "    1: \"0-20\",\n",
    "    2: \"21-39.9\",\n",
    "    3: \"40-59.9\",\n",
    "    4: \"60-79.9\",\n",
    "    5: \"80-89.9\",\n",
    "    6: \"90-100\",\n",
    "}\n",
    "df_inccat = (df[\"INCCAT\"]\n",
    "             .replace(inccat_dict)\n",
    "             .groupby(df[\"TURNFEAR\"])\n",
    "             .value_counts(normalize=True)\n",
    "             .rename(\"Freqency\")\n",
    "             .to_frame()\n",
    "             .reset_index())"
   ]
  },
  {
   "cell_type": "code",
   "execution_count": 30,
   "id": "f62f3043-3b75-4ec9-9ec9-4939b30edb9b",
   "metadata": {},
   "outputs": [
    {
     "data": {
      "text/html": [
       "<div>\n",
       "<style scoped>\n",
       "    .dataframe tbody tr th:only-of-type {\n",
       "        vertical-align: middle;\n",
       "    }\n",
       "\n",
       "    .dataframe tbody tr th {\n",
       "        vertical-align: top;\n",
       "    }\n",
       "\n",
       "    .dataframe thead th {\n",
       "        text-align: right;\n",
       "    }\n",
       "</style>\n",
       "<table border=\"1\" class=\"dataframe\">\n",
       "  <thead>\n",
       "    <tr style=\"text-align: right;\">\n",
       "      <th></th>\n",
       "      <th>TURNFEAR</th>\n",
       "      <th>INCCAT</th>\n",
       "      <th>Freqency</th>\n",
       "    </tr>\n",
       "  </thead>\n",
       "  <tbody>\n",
       "    <tr>\n",
       "      <th>0</th>\n",
       "      <td>0</td>\n",
       "      <td>90-100</td>\n",
       "      <td>0.297296</td>\n",
       "    </tr>\n",
       "    <tr>\n",
       "      <th>1</th>\n",
       "      <td>0</td>\n",
       "      <td>60-79.9</td>\n",
       "      <td>0.174841</td>\n",
       "    </tr>\n",
       "    <tr>\n",
       "      <th>2</th>\n",
       "      <td>0</td>\n",
       "      <td>40-59.9</td>\n",
       "      <td>0.143146</td>\n",
       "    </tr>\n",
       "    <tr>\n",
       "      <th>3</th>\n",
       "      <td>0</td>\n",
       "      <td>0-20</td>\n",
       "      <td>0.140343</td>\n",
       "    </tr>\n",
       "    <tr>\n",
       "      <th>4</th>\n",
       "      <td>0</td>\n",
       "      <td>21-39.9</td>\n",
       "      <td>0.135933</td>\n",
       "    </tr>\n",
       "    <tr>\n",
       "      <th>5</th>\n",
       "      <td>0</td>\n",
       "      <td>80-89.9</td>\n",
       "      <td>0.108441</td>\n",
       "    </tr>\n",
       "    <tr>\n",
       "      <th>6</th>\n",
       "      <td>1</td>\n",
       "      <td>0-20</td>\n",
       "      <td>0.288125</td>\n",
       "    </tr>\n",
       "    <tr>\n",
       "      <th>7</th>\n",
       "      <td>1</td>\n",
       "      <td>21-39.9</td>\n",
       "      <td>0.256327</td>\n",
       "    </tr>\n",
       "    <tr>\n",
       "      <th>8</th>\n",
       "      <td>1</td>\n",
       "      <td>40-59.9</td>\n",
       "      <td>0.228856</td>\n",
       "    </tr>\n",
       "    <tr>\n",
       "      <th>9</th>\n",
       "      <td>1</td>\n",
       "      <td>60-79.9</td>\n",
       "      <td>0.132598</td>\n",
       "    </tr>\n",
       "    <tr>\n",
       "      <th>10</th>\n",
       "      <td>1</td>\n",
       "      <td>90-100</td>\n",
       "      <td>0.048886</td>\n",
       "    </tr>\n",
       "    <tr>\n",
       "      <th>11</th>\n",
       "      <td>1</td>\n",
       "      <td>80-89.9</td>\n",
       "      <td>0.045209</td>\n",
       "    </tr>\n",
       "  </tbody>\n",
       "</table>\n",
       "</div>"
      ],
      "text/plain": [
       "    TURNFEAR   INCCAT  Freqency\n",
       "0          0   90-100  0.297296\n",
       "1          0  60-79.9  0.174841\n",
       "2          0  40-59.9  0.143146\n",
       "3          0     0-20  0.140343\n",
       "4          0  21-39.9  0.135933\n",
       "5          0  80-89.9  0.108441\n",
       "6          1     0-20  0.288125\n",
       "7          1  21-39.9  0.256327\n",
       "8          1  40-59.9  0.228856\n",
       "9          1  60-79.9  0.132598\n",
       "10         1   90-100  0.048886\n",
       "11         1  80-89.9  0.045209"
      ]
     },
     "execution_count": 30,
     "metadata": {},
     "output_type": "execute_result"
    }
   ],
   "source": [
    "df_inccat"
   ]
  },
  {
   "cell_type": "code",
   "execution_count": 33,
   "id": "0ba5d007-ceb0-43bc-8bc2-301753efb720",
   "metadata": {},
   "outputs": [
    {
     "data": {
      "text/plain": [
       "<Axes: xlabel='INCCAT', ylabel='Freqency'>"
      ]
     },
     "execution_count": 33,
     "metadata": {},
     "output_type": "execute_result"
    },
    {
     "data": {
      "image/png": "[encoded data removed]",
      "text/plain": [
       "<Figure size 640x480 with 1 Axes>"
      ]
     },
     "metadata": {},
     "output_type": "display_data"
    }
   ],
   "source": [
    "sns.barplot(x=\"INCCAT\",\n",
    "           y=\"Freqency\",\n",
    "           hue=\"TURNFEAR\",\n",
    "           data=df_inccat,\n",
    "           order = inccat_dict.values())"
   ]
  },
  {
   "cell_type": "markdown",
   "id": "8a4a5bd8-7a2c-4d9b-ba5c-adc74029122d",
   "metadata": {},
   "source": [
    "Si l'on compare les catégories de revenus des groupes craintifs et non craintifs, on constate que les ménages craintifs à l'égard du crédit sont beaucoup plus nombreux dans les catégories de revenus inférieures. En d'autres termes, les ménages qui ont peur du crédit ont des revenus plus faibles.\n",
    "\n",
    "Sur la base de tous ces éléments, que savons-nous ? Parmi les personnes qui ont répondu qu'elles étaient effectivement inquiètes à l'idée d'obtenir un crédit après en avoir essuyé un au cours des cinq dernières années, les jeunes et les personnes à faible revenu sont les plus nombreux à avoir répondu à l'enquête. C'est logique, non ? Les jeunes ont tendance à gagner moins d'argent et à compter davantage sur le crédit pour démarrer leur vie, de sorte que le fait de s'être vu refuser un crédit les rend plus inquiets pour l'avenir."
   ]
  },
  {
   "cell_type": "markdown",
   "id": "e4fb0fdc-3c7a-4317-a078-e62b3b78c4b9",
   "metadata": {},
   "source": [
    "### ASSET vs HOUSES"
   ]
  },
  {
   "cell_type": "code",
   "execution_count": 34,
   "id": "1f704d1e-e9c5-4613-a658-3755884ebf3a",
   "metadata": {},
   "outputs": [
    {
     "name": "stdout",
     "output_type": "stream",
     "text": [
      "correlation asset et houses: 0.5198273544779252\n"
     ]
    }
   ],
   "source": [
    "corr_asset_house = df[\"ASSET\"].corr(df[\"HOUSES\"])\n",
    "print(\"correlation asset et houses:\", corr_asset_house) "
   ]
  },
  {
   "cell_type": "markdown",
   "id": "da6f0a0e-1f2c-4180-bf19-139672053559",
   "metadata": {},
   "source": [
    "Il s'agit d'une corrélation positive modérée, à laquelle on peut s'attendre, n'est-ce pas ? Pour de nombreux Américains, la valeur de leur résidence principale représente la majeure partie de la valeur de leur patrimoine total. Mais qu'en est-il des personnes appartenant à notre sous-ensemble TURNFEAR ? Examinons cette corrélation pour voir s'il y a une différence."
   ]
  },
  {
   "cell_type": "code",
   "execution_count": 35,
   "id": "c5a64bf5-18f8-4eb3-b114-7f692abdba64",
   "metadata": {},
   "outputs": [
    {
     "name": "stdout",
     "output_type": "stream",
     "text": [
      "correlation asset et houses: 0.5832879735979154\n"
     ]
    }
   ],
   "source": [
    "corr_asset_house = df_fear[\"ASSET\"].corr(df_fear[\"HOUSES\"])\n",
    "print(\"correlation asset et houses:\", corr_asset_house) "
   ]
  },
  {
   "cell_type": "markdown",
   "id": "d6d9bb51-1bea-428e-81dd-c707435bd43a",
   "metadata": {},
   "source": [
    "Réalisons des matrices de corrélation en utilisant le reste des données pour df et df_fear et voyons si les différences persistent. Nous n'examinerons ici que 5 caractéristiques : \"ASSET\", \"HOUSES\", \"INCOME\", \"DEBT\", and \"EDUC\"."
   ]
  },
  {
   "cell_type": "code",
   "execution_count": 37,
   "id": "8b5c545e-a01a-488d-9a06-ea4b048634b4",
   "metadata": {},
   "outputs": [],
   "source": [
    "liste = [\"ASSET\", \"HOUSES\", \"INCOME\", \"DEBT\", \"EDUC\"]\n",
    "corr = df[liste].corr()"
   ]
  },
  {
   "cell_type": "code",
   "execution_count": 38,
   "id": "d3a061b0-7006-4a16-a58c-3456f88d3a96",
   "metadata": {},
   "outputs": [
    {
     "data": {
      "text/html": [
       "<div>\n",
       "<style scoped>\n",
       "    .dataframe tbody tr th:only-of-type {\n",
       "        vertical-align: middle;\n",
       "    }\n",
       "\n",
       "    .dataframe tbody tr th {\n",
       "        vertical-align: top;\n",
       "    }\n",
       "\n",
       "    .dataframe thead th {\n",
       "        text-align: right;\n",
       "    }\n",
       "</style>\n",
       "<table border=\"1\" class=\"dataframe\">\n",
       "  <thead>\n",
       "    <tr style=\"text-align: right;\">\n",
       "      <th></th>\n",
       "      <th>ASSET</th>\n",
       "      <th>HOUSES</th>\n",
       "      <th>INCOME</th>\n",
       "      <th>DEBT</th>\n",
       "      <th>EDUC</th>\n",
       "    </tr>\n",
       "  </thead>\n",
       "  <tbody>\n",
       "    <tr>\n",
       "      <th>ASSET</th>\n",
       "      <td>1.000000</td>\n",
       "      <td>0.519827</td>\n",
       "      <td>0.622429</td>\n",
       "      <td>0.261250</td>\n",
       "      <td>0.116673</td>\n",
       "    </tr>\n",
       "    <tr>\n",
       "      <th>HOUSES</th>\n",
       "      <td>0.519827</td>\n",
       "      <td>1.000000</td>\n",
       "      <td>0.247852</td>\n",
       "      <td>0.266661</td>\n",
       "      <td>0.169300</td>\n",
       "    </tr>\n",
       "    <tr>\n",
       "      <th>INCOME</th>\n",
       "      <td>0.622429</td>\n",
       "      <td>0.247852</td>\n",
       "      <td>1.000000</td>\n",
       "      <td>0.114646</td>\n",
       "      <td>0.069400</td>\n",
       "    </tr>\n",
       "    <tr>\n",
       "      <th>DEBT</th>\n",
       "      <td>0.261250</td>\n",
       "      <td>0.266661</td>\n",
       "      <td>0.114646</td>\n",
       "      <td>1.000000</td>\n",
       "      <td>0.054179</td>\n",
       "    </tr>\n",
       "    <tr>\n",
       "      <th>EDUC</th>\n",
       "      <td>0.116673</td>\n",
       "      <td>0.169300</td>\n",
       "      <td>0.069400</td>\n",
       "      <td>0.054179</td>\n",
       "      <td>1.000000</td>\n",
       "    </tr>\n",
       "  </tbody>\n",
       "</table>\n",
       "</div>"
      ],
      "text/plain": [
       "           ASSET    HOUSES    INCOME      DEBT      EDUC\n",
       "ASSET   1.000000  0.519827  0.622429  0.261250  0.116673\n",
       "HOUSES  0.519827  1.000000  0.247852  0.266661  0.169300\n",
       "INCOME  0.622429  0.247852  1.000000  0.114646  0.069400\n",
       "DEBT    0.261250  0.266661  0.114646  1.000000  0.054179\n",
       "EDUC    0.116673  0.169300  0.069400  0.054179  1.000000"
      ]
     },
     "execution_count": 38,
     "metadata": {},
     "output_type": "execute_result"
    }
   ],
   "source": [
    "corr"
   ]
  },
  {
   "cell_type": "code",
   "execution_count": 39,
   "id": "9ac2291d-3b56-41ba-b22c-f0b208c432e8",
   "metadata": {},
   "outputs": [],
   "source": [
    "corr_fear = df_fear[liste].corr()"
   ]
  },
  {
   "cell_type": "code",
   "execution_count": 40,
   "id": "a64aa584-9090-4421-9ec9-377c385afe76",
   "metadata": {},
   "outputs": [
    {
     "data": {
      "text/html": [
       "<div>\n",
       "<style scoped>\n",
       "    .dataframe tbody tr th:only-of-type {\n",
       "        vertical-align: middle;\n",
       "    }\n",
       "\n",
       "    .dataframe tbody tr th {\n",
       "        vertical-align: top;\n",
       "    }\n",
       "\n",
       "    .dataframe thead th {\n",
       "        text-align: right;\n",
       "    }\n",
       "</style>\n",
       "<table border=\"1\" class=\"dataframe\">\n",
       "  <thead>\n",
       "    <tr style=\"text-align: right;\">\n",
       "      <th></th>\n",
       "      <th>ASSET</th>\n",
       "      <th>HOUSES</th>\n",
       "      <th>INCOME</th>\n",
       "      <th>DEBT</th>\n",
       "      <th>EDUC</th>\n",
       "    </tr>\n",
       "  </thead>\n",
       "  <tbody>\n",
       "    <tr>\n",
       "      <th>ASSET</th>\n",
       "      <td>1.000000</td>\n",
       "      <td>0.583288</td>\n",
       "      <td>0.722074</td>\n",
       "      <td>0.474658</td>\n",
       "      <td>0.113536</td>\n",
       "    </tr>\n",
       "    <tr>\n",
       "      <th>HOUSES</th>\n",
       "      <td>0.583288</td>\n",
       "      <td>1.000000</td>\n",
       "      <td>0.264099</td>\n",
       "      <td>0.962629</td>\n",
       "      <td>0.160348</td>\n",
       "    </tr>\n",
       "    <tr>\n",
       "      <th>INCOME</th>\n",
       "      <td>0.722074</td>\n",
       "      <td>0.264099</td>\n",
       "      <td>1.000000</td>\n",
       "      <td>0.172393</td>\n",
       "      <td>0.133170</td>\n",
       "    </tr>\n",
       "    <tr>\n",
       "      <th>DEBT</th>\n",
       "      <td>0.474658</td>\n",
       "      <td>0.962629</td>\n",
       "      <td>0.172393</td>\n",
       "      <td>1.000000</td>\n",
       "      <td>0.177386</td>\n",
       "    </tr>\n",
       "    <tr>\n",
       "      <th>EDUC</th>\n",
       "      <td>0.113536</td>\n",
       "      <td>0.160348</td>\n",
       "      <td>0.133170</td>\n",
       "      <td>0.177386</td>\n",
       "      <td>1.000000</td>\n",
       "    </tr>\n",
       "  </tbody>\n",
       "</table>\n",
       "</div>"
      ],
      "text/plain": [
       "           ASSET    HOUSES    INCOME      DEBT      EDUC\n",
       "ASSET   1.000000  0.583288  0.722074  0.474658  0.113536\n",
       "HOUSES  0.583288  1.000000  0.264099  0.962629  0.160348\n",
       "INCOME  0.722074  0.264099  1.000000  0.172393  0.133170\n",
       "DEBT    0.474658  0.962629  0.172393  1.000000  0.177386\n",
       "EDUC    0.113536  0.160348  0.133170  0.177386  1.000000"
      ]
     },
     "execution_count": 40,
     "metadata": {},
     "output_type": "execute_result"
    }
   ],
   "source": [
    "corr_fear"
   ]
  },
  {
   "cell_type": "markdown",
   "id": "07f8297a-4ff1-42b1-9634-5d5986aa388b",
   "metadata": {},
   "source": [
    "Il y a des différences assez importantes ici ! La relation entre \"DETTE\" et \"LOGEMENT\" est positive pour les deux ensembles de données, mais alors que le coefficient pour df est assez faible (0,26), le même chiffre pour df_fear est de 0,96.\n",
    "\n",
    "Rappelons que plus un coefficient de corrélation est proche de 1,0, plus la correspondance est exacte. Dans le cas présent, cela signifie que la valeur de la résidence principale et le montant total de la dette détenue par le ménage sont très proches l'un de l'autre. Cela suggère que la principale source d'endettement de nos \"TURNFEAR\" est leur résidence principale, ce qui, une fois de plus, est une constatation intuitive.\n",
    "\n",
    "La différence entre \"DETTE\" et \"ACTIF\" est tout aussi frappante, tout comme celle entre \"ÉDUCATION\" et \"DETTE\" qui, bien qu'elle ne soit pas aussi extrême que les autres, est suffisamment importante pour susciter l'intérêt de notre banquier hypothétique.\n",
    "\n",
    "Faisons quelques visualisations pour montrer ces relations sous forme de graphiques."
   ]
  },
  {
   "cell_type": "markdown",
   "id": "efeec5ca-685f-461d-9fa8-826842973c3e",
   "metadata": {},
   "source": [
    "### EDUC"
   ]
  },
  {
   "cell_type": "code",
   "execution_count": 41,
   "id": "54f69bf4-fba6-4d9b-bc17-a83bb12430c0",
   "metadata": {},
   "outputs": [
    {
     "data": {
      "text/html": [
       "<div>\n",
       "<style scoped>\n",
       "    .dataframe tbody tr th:only-of-type {\n",
       "        vertical-align: middle;\n",
       "    }\n",
       "\n",
       "    .dataframe tbody tr th {\n",
       "        vertical-align: top;\n",
       "    }\n",
       "\n",
       "    .dataframe thead th {\n",
       "        text-align: right;\n",
       "    }\n",
       "</style>\n",
       "<table border=\"1\" class=\"dataframe\">\n",
       "  <thead>\n",
       "    <tr style=\"text-align: right;\">\n",
       "      <th></th>\n",
       "      <th>TURNFEAR</th>\n",
       "      <th>EDUC</th>\n",
       "      <th>frequency</th>\n",
       "    </tr>\n",
       "  </thead>\n",
       "  <tbody>\n",
       "    <tr>\n",
       "      <th>0</th>\n",
       "      <td>0</td>\n",
       "      <td>12</td>\n",
       "      <td>0.257481</td>\n",
       "    </tr>\n",
       "    <tr>\n",
       "      <th>1</th>\n",
       "      <td>0</td>\n",
       "      <td>8</td>\n",
       "      <td>0.192029</td>\n",
       "    </tr>\n",
       "    <tr>\n",
       "      <th>2</th>\n",
       "      <td>0</td>\n",
       "      <td>13</td>\n",
       "      <td>0.149823</td>\n",
       "    </tr>\n",
       "    <tr>\n",
       "      <th>3</th>\n",
       "      <td>0</td>\n",
       "      <td>9</td>\n",
       "      <td>0.129833</td>\n",
       "    </tr>\n",
       "    <tr>\n",
       "      <th>4</th>\n",
       "      <td>0</td>\n",
       "      <td>14</td>\n",
       "      <td>0.096117</td>\n",
       "    </tr>\n",
       "  </tbody>\n",
       "</table>\n",
       "</div>"
      ],
      "text/plain": [
       "   TURNFEAR  EDUC  frequency\n",
       "0         0    12   0.257481\n",
       "1         0     8   0.192029\n",
       "2         0    13   0.149823\n",
       "3         0     9   0.129833\n",
       "4         0    14   0.096117"
      ]
     },
     "execution_count": 41,
     "metadata": {},
     "output_type": "execute_result"
    }
   ],
   "source": [
    "df_educ = (\n",
    "    df[\"EDUC\"]\n",
    "    .groupby(df[\"TURNFEAR\"])\n",
    "    .value_counts(normalize=True)\n",
    "    .rename(\"frequency\")\n",
    "    .to_frame()\n",
    "    .reset_index()\n",
    ")\n",
    "df_educ.head()"
   ]
  },
  {
   "cell_type": "code",
   "execution_count": 42,
   "id": "37b71b61-60a4-4696-bf62-0ac65b7f0da2",
   "metadata": {},
   "outputs": [
    {
     "data": {
      "image/png": "[encoded data removed]",
      "text/plain": [
       "<Figure size 640x480 with 1 Axes>"
      ]
     },
     "metadata": {},
     "output_type": "display_data"
    }
   ],
   "source": [
    "sns.barplot(\n",
    "    x=\"EDUC\",\n",
    "    y=\"frequency\",\n",
    "    hue=\"TURNFEAR\",\n",
    "    data=df_educ\n",
    ")\n",
    "plt.xlabel(\"Education Level\")\n",
    "plt.ylabel(\"Frequency (%)\")\n",
    "plt.title(\"Educational Attainment: Credit Fearful vs. Non-fearful\");"
   ]
  },
  {
   "cell_type": "markdown",
   "id": "40fa73d8-86a2-49d0-b900-6acdb5e6ce65",
   "metadata": {},
   "source": [
    "Ce graphique montre qu'une proportion beaucoup plus importante de personnes interrogées craignant le crédit n'ont qu'un diplôme d'études secondaires, tandis que les diplômes universitaires sont plus fréquents chez les personnes ne craignant pas le crédit."
   ]
  }
 ],
 "metadata": {
  "kernelspec": {
   "display_name": "Python 3 (ipykernel)",
   "language": "python",
   "name": "python3"
  },
  "language_info": {
   "codemirror_mode": {
    "name": "ipython",
    "version": 3
   },
   "file_extension": ".py",
   "mimetype": "text/x-python",
   "name": "python",
   "nbconvert_exporter": "python",
   "pygments_lexer": "ipython3",
   "version": "3.10.9"
  }
 },
 "nbformat": 4,
 "nbformat_minor": 5
}
