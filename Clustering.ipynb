{
 "cells": [
  {
   "cell_type": "markdown",
   "id": "3588c01b-5ac2-4288-acdb-3890e0e4420e",
   "metadata": {},
   "source": [
    "Nous examinerons toutes les caractéristiques et en sélectionnerons cinq pour créer des clusters. Après avoir construit notre modèle et choisi un nombre approprié de clusters, nous apprendrons à visualiser les clusters multidimensionnelles dans un diagramme de dispersion 2D à l'aide d'une méthode appelée analyse en composantes principales (ACP)."
   ]
  },
  {
   "cell_type": "code",
   "execution_count": 2,
   "id": "3cfd5247-8be1-4aed-8427-a77293e804d1",
   "metadata": {},
   "outputs": [],
   "source": [
    "import pandas as pd\n",
    "import plotly.express as px\n",
    "from IPython.display import VimeoVideo\n",
    "from scipy.stats.mstats import trimmed_var\n",
    "from sklearn.cluster import KMeans\n",
    "from sklearn.decomposition import PCA\n",
    "from sklearn.metrics import silhouette_score\n",
    "from sklearn.pipeline import make_pipeline\n",
    "from sklearn.preprocessing import StandardScaler"
   ]
  },
  {
   "cell_type": "markdown",
   "id": "5e493ed0-a898-4eac-8751-0afdb4dacaf9",
   "metadata": {},
   "source": [
    "## Prepare data"
   ]
  },
  {
   "cell_type": "code",
   "execution_count": null,
   "id": "682e1198-6567-499d-9811-2e34577605ca",
   "metadata": {},
   "outputs": [],
   "source": []
  }
 ],
 "metadata": {
  "kernelspec": {
   "display_name": "Python 3 (ipykernel)",
   "language": "python",
   "name": "python3"
  },
  "language_info": {
   "codemirror_mode": {
    "name": "ipython",
    "version": 3
   },
   "file_extension": ".py",
   "mimetype": "text/x-python",
   "name": "python",
   "nbconvert_exporter": "python",
   "pygments_lexer": "ipython3",
   "version": "3.10.9"
  }
 },
 "nbformat": 4,
 "nbformat_minor": 5
}
